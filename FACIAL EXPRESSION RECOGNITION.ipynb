{
 "cells": [
  {
   "cell_type": "markdown",
   "id": "3c638400",
   "metadata": {},
   "source": [
    "### IMPORTING NECESSARY LIBRARIES"
   ]
  },
  {
   "cell_type": "code",
   "execution_count": null,
   "id": "15891eb0",
   "metadata": {},
   "outputs": [],
   "source": [
    "import torch\n",
    "import torch.nn as nn\n",
    "import torch.optim as optim\n",
    "import torch.nn.functional as F\n",
    "import torchvision\n",
    "from torch.utils.data import Dataset, DataLoader, WeightedRandomSampler, random_split, TensorDataset\n",
    "from torchvision.transforms import ToTensor, transforms\n",
    "from sklearn.metrics import classification_report\n",
    "import torchvision.models as models\n",
    "import torch.optim.lr_scheduler as lr_scheduler\n",
    "from tqdm.auto import tqdm\n",
    "import os\n",
    "import numpy as np\n",
    "from PIL import Image\n",
    "import warnings\n",
    "import matplotlib.pyplot as plt\n",
    "from pathlib import Path\n",
    "warnings.filterwarnings(\"ignore\")"
   ]
  },
  {
   "cell_type": "code",
   "execution_count": null,
   "id": "9901a8dc",
   "metadata": {},
   "outputs": [],
   "source": [
    "train_dir = \"/kaggle/input/facial-expression-recognition-2013-csv-files/Images/train\""
   ]
  },
  {
   "cell_type": "code",
   "execution_count": null,
   "id": "312fdf91",
   "metadata": {},
   "outputs": [],
   "source": [
    "test_dir = \"/kaggle/input/facial-expression-recognition-2013-csv-files/Images/test\""
   ]
  },
  {
   "cell_type": "markdown",
   "id": "e0e2c048",
   "metadata": {},
   "source": [
    "### CREATING A CUSTOM DATASET CLASS"
   ]
  },
  {
   "cell_type": "code",
   "execution_count": null,
   "id": "a9f1d956",
   "metadata": {},
   "outputs": [],
   "source": [
    "class CustomDataset(Dataset):\n",
    "    def __init__(self, root_dir, transform = None, weights = None):\n",
    "        self.root_dir = root_dir\n",
    "        self.transform = transform\n",
    "        \n",
    "        self.image_paths = [str(i) for i in Path(self.root_dir).rglob(\"*jpg\")]\n",
    "        #print(self.image_paths)\n",
    "        \n",
    "        self.labels = [Path(i).parent.name for i in self.image_paths]\n",
    "        \n",
    "        \n",
    "        self.classes = sorted(set(self.labels))\n",
    "        #print(self.classes)\n",
    "        \n",
    "        self.class2idx = dict(zip(self.classes, range(len(self.classes))))\n",
    "        self.labels = [self.class2idx[i] for i in self.labels]\n",
    "        #print(self.labels)\n",
    "        \n",
    "    def __len__(self):\n",
    "        return len(self.image_paths)\n",
    "    \n",
    "    def __getitem__(self, idx):\n",
    "        image_path = self.image_paths[idx]\n",
    "        image = Image.open(image_path).convert(\"L\")\n",
    "        label = self.labels[idx]\n",
    "        \n",
    "        if self.transform is not None:\n",
    "            image = self.transform(image)\n",
    "        \n",
    "        return image, label"
   ]
  },
  {
   "cell_type": "markdown",
   "id": "3611e0de",
   "metadata": {},
   "source": [
    "#### DEFINING TRANSFORMS"
   ]
  },
  {
   "cell_type": "code",
   "execution_count": null,
   "id": "acf84fef",
   "metadata": {},
   "outputs": [],
   "source": [
    "transform = transforms.Compose(\n",
    "    [\n",
    "    transforms.Resize((48, 48)),\n",
    "    transforms.RandomHorizontalFlip(),\n",
    "    transforms.RandomVerticalFlip(),\n",
    "    transforms.GaussianBlur(kernel_size=5, sigma=(0.1, 2.0)),\n",
    "    transforms.ToTensor(),\n",
    "]\n",
    ")"
   ]
  },
  {
   "cell_type": "markdown",
   "id": "0fbc622d",
   "metadata": {},
   "source": [
    "#### INITIALIZATIONS"
   ]
  },
  {
   "cell_type": "code",
   "execution_count": null,
   "id": "3421be2a",
   "metadata": {},
   "outputs": [],
   "source": [
    "RANDOM_SEED = 46\n",
    "np.random.seed(RANDOM_SEED)\n",
    "torch.manual_seed(RANDOM_SEED)\n",
    "device = torch.device(\"cuda\" if torch.cuda.is_available() else \"cpu\")\n",
    "BATCH_SIZE = 128"
   ]
  },
  {
   "cell_type": "markdown",
   "id": "7f436b2a",
   "metadata": {},
   "source": [
    "#### SPLITTIING THE TRAIN DATASET USING RANDOM SPLIT TO GET VALIDATION SET"
   ]
  },
  {
   "cell_type": "code",
   "execution_count": null,
   "id": "d9994e7e",
   "metadata": {},
   "outputs": [],
   "source": [
    "train_dataset = CustomDataset(root_dir=train_dir, transform=transform)"
   ]
  },
  {
   "cell_type": "code",
   "execution_count": null,
   "id": "ed746189",
   "metadata": {},
   "outputs": [],
   "source": [
    "train_size = int(0.9 * len(train_dataset))\n",
    "val_size = len(train_dataset) - train_size"
   ]
  },
  {
   "cell_type": "code",
   "execution_count": null,
   "id": "c7d2a43c",
   "metadata": {},
   "outputs": [],
   "source": [
    "train_dataset, val_dataset = random_split(train_dataset, [train_size, val_size])"
   ]
  },
  {
   "cell_type": "code",
   "execution_count": null,
   "id": "bfd4a202",
   "metadata": {},
   "outputs": [],
   "source": [
    "test_dataset = CustomDataset(root_dir=test_dir, transform=transform)"
   ]
  },
  {
   "cell_type": "markdown",
   "id": "c2d19abb",
   "metadata": {},
   "source": [
    "#### LOADING THE DATA WITH THE DATALOADER"
   ]
  },
  {
   "cell_type": "code",
   "execution_count": null,
   "id": "186db038",
   "metadata": {},
   "outputs": [],
   "source": [
    "train_dataloader = DataLoader(train_dataset,\n",
    "                              batch_size=BATCH_SIZE,\n",
    "                              shuffle=True\n",
    "                              )"
   ]
  },
  {
   "cell_type": "code",
   "execution_count": null,
   "id": "eef759a2",
   "metadata": {},
   "outputs": [],
   "source": [
    "val_dataloader = DataLoader(val_dataset,\n",
    "                           batch_size=BATCH_SIZE,\n",
    "                           shuffle=False)"
   ]
  },
  {
   "cell_type": "code",
   "execution_count": null,
   "id": "23251100",
   "metadata": {},
   "outputs": [],
   "source": [
    "test_dataloader = DataLoader(test_dataset,\n",
    "                             batch_size=BATCH_SIZE, \n",
    "                             shuffle=False)"
   ]
  },
  {
   "cell_type": "code",
   "execution_count": null,
   "id": "64cd09dc",
   "metadata": {},
   "outputs": [],
   "source": [
    "# checking the shape\n",
    "first_batch = next(iter(train_dataloader))"
   ]
  },
  {
   "cell_type": "code",
   "execution_count": null,
   "id": "7b946aea",
   "metadata": {},
   "outputs": [],
   "source": [
    "for batch_idx, (inputs, labels) in enumerate(train_dataloader):\n",
    "    print(f\"Batch {batch_idx + 1}:\")\n",
    "    print(f\"Input shape: {inputs.shape}, Labels shape: {labels.shape}\")\n",
    "    break"
   ]
  },
  {
   "cell_type": "code",
   "execution_count": null,
   "id": "8f53432a",
   "metadata": {},
   "outputs": [],
   "source": [
    "images, labels = first_batch"
   ]
  },
  {
   "cell_type": "code",
   "execution_count": null,
   "id": "ec6f9066",
   "metadata": {},
   "outputs": [],
   "source": [
    "images.shape"
   ]
  },
  {
   "cell_type": "code",
   "execution_count": null,
   "id": "534a5063",
   "metadata": {},
   "outputs": [],
   "source": [
    "labels.shape"
   ]
  },
  {
   "cell_type": "markdown",
   "id": "c17ead1e",
   "metadata": {},
   "source": [
    "#### HYPERPARAMETER"
   ]
  },
  {
   "cell_type": "code",
   "execution_count": null,
   "id": "eb8befb3",
   "metadata": {},
   "outputs": [],
   "source": [
    "in_channels = 1\n",
    "num_labels = 7\n",
    "learning_rate = 1e-4\n",
    "NUM_EPOCHS = 50"
   ]
  },
  {
   "cell_type": "markdown",
   "id": "7bdb1866",
   "metadata": {},
   "source": [
    "## RESNET MODEL(PRETRAINED)"
   ]
  },
  {
   "cell_type": "code",
   "execution_count": null,
   "id": "aeb59ae7",
   "metadata": {},
   "outputs": [],
   "source": [
    "class ResNet(nn.Module):\n",
    "    def __init__(self, num_classes):\n",
    "        super(ResNet, self).__init__()\n",
    "        self.resnet = models.resnet50(pretrained=True)\n",
    "        for param in self.resnet.parameters():\n",
    "            param.requires_grad = True\n",
    "        self.resnet.conv1 = nn.Conv2d(1, 64, kernel_size=(7, 7), stride=(2, 2), padding=(3, 3), bias=False)\n",
    "        in_features = self.resnet.fc.in_features\n",
    "        self.resnet.fc = nn.Linear(in_features, num_labels)\n",
    "        \n",
    "    def forward(self, x):\n",
    "        return self.resnet(x)"
   ]
  },
  {
   "cell_type": "markdown",
   "id": "10838869",
   "metadata": {},
   "source": [
    "#### INSTANTIATE THE RESNET MODEL"
   ]
  },
  {
   "cell_type": "code",
   "execution_count": null,
   "id": "f99a68b0",
   "metadata": {},
   "outputs": [],
   "source": [
    "model = ResNet(num_labels)"
   ]
  },
  {
   "cell_type": "code",
   "execution_count": null,
   "id": "d5fcb0f2",
   "metadata": {},
   "outputs": [],
   "source": [
    "model.to(device)"
   ]
  },
  {
   "cell_type": "markdown",
   "id": "1d139fec",
   "metadata": {},
   "source": [
    "#### LOSS FUNCTION AND OPTIMIZER"
   ]
  },
  {
   "cell_type": "code",
   "execution_count": null,
   "id": "ebca7eb7",
   "metadata": {},
   "outputs": [],
   "source": [
    "criterion = nn.CrossEntropyLoss()\n",
    "optimizer = optim.Adam(model.parameters(), lr=learning_rate)\n",
    "scheduler = lr_scheduler.StepLR(optimizer, step_size=7, gamma=0.1)"
   ]
  },
  {
   "cell_type": "markdown",
   "id": "bfba3558",
   "metadata": {},
   "source": [
    "#### TRAINING"
   ]
  },
  {
   "cell_type": "code",
   "execution_count": null,
   "id": "ceeb13c0",
   "metadata": {},
   "outputs": [],
   "source": [
    "train_losses = []\n",
    "\n",
    "# EARLY STOPPING PARAMETERS\n",
    "patience = 5\n",
    "best_val_loss = float(\"inf\")\n",
    "current_patience = 0\n",
    "\n",
    "for epoch in range(NUM_EPOCHS):\n",
    "    running_loss = 0.0\n",
    "    print(f\"Epoch [{epoch+1}/{NUM_EPOCHS}]\")\n",
    "    \n",
    "    running_correct = 0\n",
    "    running_total = 0\n",
    "    for batch_idx, (inputs, labels) in tqdm(enumerate(train_dataloader), total = len(train_dataloader)):\n",
    "        #get data to cuda if possible\n",
    "        inputs = inputs.to(device, dtype = torch.float32)\n",
    "        labels = labels.to(device, dtype = torch.long) \n",
    "        \n",
    "        # forward pass\n",
    "        # optimizer.zero_grad()\n",
    "        running_outputs = model(inputs)\n",
    "        loss = criterion(running_outputs, labels)\n",
    "        \n",
    "        running_loss += loss.item()\n",
    "        train_losses.append(loss.item())\n",
    "        \n",
    "        running_, running_predicted = torch.max(running_outputs, dim=1)\n",
    "        running_total += labels.size(0)\n",
    "        running_correct += (running_predicted == labels).sum().item()\n",
    "        \n",
    "        #back propagation\n",
    "        loss.backward()\n",
    "        \n",
    "        # gradient descent\n",
    "        optimizer.step()\n",
    "        optimizer.zero_grad()\n",
    "        \n",
    "    # update learning rate scheduler\n",
    "    scheduler.step()\n",
    "        \n",
    "    epoch_loss = running_loss / len(train_dataloader)\n",
    "    running_accuracy = 100 * (running_correct / running_total)\n",
    "    \n",
    "    # validation accuracy\n",
    "    model.eval()\n",
    "    val_loss = 0.0\n",
    "    val_correct = 0\n",
    "    val_total = 0\n",
    "\n",
    "\n",
    "    with torch.no_grad():\n",
    "        for batch_idx, (inputs, labels) in tqdm(enumerate(val_dataloader), total=len(val_dataloader)):\n",
    "            inputs = inputs.to(device, dtype=torch.float32)\n",
    "            labels = labels.to(device, dtype=torch.long)\n",
    "\n",
    "            # Forward pass\n",
    "            outputs = model(inputs)\n",
    "            loss = criterion(outputs, labels)\n",
    "            val_loss += loss.item()\n",
    "\n",
    "            # Get predictions\n",
    "            _, predicted = torch.max(outputs, dim=1)\n",
    "            val_total += labels.size(0)\n",
    "            val_correct += (predicted == labels).sum().item()\n",
    "\n",
    "        # Calculate the average validation loss after the loop\n",
    "        val_loss /= len(val_dataloader)\n",
    "        \n",
    "        # Check improvement\n",
    "        if val_loss < best_val_loss:\n",
    "            best_val_loss = val_loss\n",
    "            current_patience = 0\n",
    "        else:\n",
    "            current_patience += 1\n",
    "\n",
    "        # Print accuracy and check for early stopping\n",
    "        val_accuracy = 100 * (val_correct / val_total)\n",
    "        print(f\"Epoch {epoch + 1}, Training Accuracy: {running_accuracy:.2f}%, Validation Accuracy: {val_accuracy:.2f}%, Loss: {epoch_loss:.4f}, Validation Loss: {val_loss:.4f}\")\n",
    "\n",
    "        # If early stopping criteria met\n",
    "        if current_patience >= patience:\n",
    "            print(f\"Early stopping after {epoch + 1} epochs.\")\n",
    "            break"
   ]
  },
  {
   "cell_type": "markdown",
   "id": "7aa0ef12",
   "metadata": {},
   "source": [
    "#### TESTING"
   ]
  },
  {
   "cell_type": "code",
   "execution_count": null,
   "id": "fce971b9",
   "metadata": {},
   "outputs": [],
   "source": [
    "test_loss = 0.0\n",
    "correct_pred = 0.0\n",
    "total_samples = 0.0\n",
    "test_losses = []\n",
    "all_predictions = []\n",
    "all_labels = []\n",
    "\n",
    "model.eval()\n",
    "with torch.no_grad():\n",
    "    for inputs, labels in test_dataloader:\n",
    "        inputs = inputs.to(device, dtype = torch.float32)\n",
    "        labels = labels.to(device, dtype = torch.long)\n",
    "        \n",
    "        # forward pass\n",
    "        outputs = model(inputs)\n",
    "        loss = criterion(outputs, labels)\n",
    "\n",
    "        # get loss\n",
    "        test_loss = loss.item()\n",
    "        test_losses.append(test_loss)\n",
    "\n",
    "        # get prediction\n",
    "        _, predicted = torch.max(outputs, dim=1)\n",
    "        total_samples += labels.size(0)\n",
    "\n",
    "        # calculate accuracy\n",
    "        correct_pred += (predicted == labels).sum()\n",
    "\n",
    "        # get predicted and actual labels\n",
    "        all_predictions.extend(predicted.cpu().numpy())\n",
    "        all_labels.extend(labels.cpu().numpy())\n",
    "\n",
    "test_loss /= len(test_dataloader.dataset)\n",
    "accuracy = correct_pred / total_samples\n",
    "\n",
    "# view loss and accuracy\n",
    "print(\"Test Loss: {:.3f} | Accuracy: {:.3f}\".format(test_loss, accuracy))"
   ]
  },
  {
   "cell_type": "markdown",
   "id": "0896cde9",
   "metadata": {},
   "source": [
    "### CHECKING OTHER EVALUATION METRICS"
   ]
  },
  {
   "cell_type": "code",
   "execution_count": null,
   "id": "8bc0f769",
   "metadata": {},
   "outputs": [],
   "source": [
    "from sklearn.metrics import accuracy_score, precision_score, recall_score, f1_score"
   ]
  },
  {
   "cell_type": "code",
   "execution_count": null,
   "id": "ade76cbb",
   "metadata": {},
   "outputs": [],
   "source": [
    "accuracy = accuracy_score(all_labels, all_predictions)\n",
    "precision = precision_score(all_labels, all_predictions, average = \"weighted\")\n",
    "recall = recall_score(all_labels, all_predictions, average = \"weighted\")\n",
    "f1 = f1_score(all_labels, all_predictions, average = \"weighted\")"
   ]
  },
  {
   "cell_type": "markdown",
   "id": "2596a08a",
   "metadata": {},
   "source": [
    "#### RESULTS OF RESNET"
   ]
  },
  {
   "cell_type": "code",
   "execution_count": null,
   "id": "6dfeecf9",
   "metadata": {},
   "outputs": [],
   "source": [
    "print(f\"Accuracy: {accuracy:.3f}, precision: {precision:.3f}, recall: {recall:.3f}, F1: {f1:.3f}\")"
   ]
  },
  {
   "cell_type": "markdown",
   "id": "4ed84790",
   "metadata": {},
   "source": [
    "#### SUMMARY OF RESNET"
   ]
  },
  {
   "cell_type": "code",
   "execution_count": null,
   "id": "e15ee693",
   "metadata": {},
   "outputs": [],
   "source": [
    "report = classification_report(labels, predicted)"
   ]
  },
  {
   "cell_type": "markdown",
   "id": "492e485e",
   "metadata": {},
   "source": [
    "#### RESULTS VISUALIZATION"
   ]
  },
  {
   "cell_type": "code",
   "execution_count": null,
   "id": "2fa83517",
   "metadata": {},
   "outputs": [],
   "source": [
    "# plotting the epoch-to-train and test trend\n",
    "plt.figure(figsize = (10, 5))\n",
    "plt.plot(train_losses, label = \"Training loss\")\n",
    "plt.plot(test_losses, label = \"Test loss\")\n",
    "plt.xlabel(\"Epochs\")\n",
    "plt.ylabel(\"Loss\")\n",
    "plt.title(\"Training and Testing Loss trends\")\n",
    "plt.legend()\n",
    "plt.grid(True)\n",
    "plt.show()"
   ]
  },
  {
   "cell_type": "markdown",
   "id": "a2a527f6",
   "metadata": {},
   "source": [
    "## CUSTOM CONVOLUTION NEURAL NETWORK"
   ]
  },
  {
   "cell_type": "code",
   "execution_count": null,
   "id": "38c15520",
   "metadata": {},
   "outputs": [],
   "source": [
    "class ConvolutionNeuralNetwork(nn.Module):\n",
    "    def __init__(self, in_channels = None,out_channels = None):\n",
    "        super(ConvolutionNeuralNetwork, self). __init__()\n",
    "        self.layer1 = nn.Sequential(\n",
    "            nn.Conv2d(in_channels=3, out_channels=32, kernel_size=3, stride=1, padding=1, bias=False),\n",
    "            nn.BatchNorm2d(32))\n",
    "        \n",
    "        self.layer2 = nn.Sequential(\n",
    "            nn.Conv2d(in_channels=32, out_channels=32, kernel_size=3, stride=1, padding=1, bias=False))\n",
    "        \n",
    "        self.pool1 = nn.MaxPool2d(kernel_size=2, stride=2)\n",
    "        \n",
    "        self.layer3 = nn.Sequential(\n",
    "            nn.Conv2d(in_channels=32, out_channels=64, kernel_size=3, stride=1, padding=1, bias=False),\n",
    "            nn.BatchNorm2d(64))\n",
    "        \n",
    "        self.relu = nn.ReLU()\n",
    "        \n",
    "        self.layer4 = nn.Sequential(\n",
    "            nn.Conv2d(in_channels=64, out_channels=128, kernel_size=3, stride=1, padding=1, bias=False),\n",
    "            nn.ReLU())\n",
    "        \n",
    "        self.avgpool = nn.AvgPool2d(7)\n",
    "        \n",
    "        self.fc1 = nn.Linear(128 * 21 * 21, num_labels)\n",
    "        \n",
    "    def forward(self, x):\n",
    "        x = F.relu(self.layer1(x)) \n",
    "        x = self.pool1(self.layer2(x))\n",
    "        x = self.relu(self.layer3(x))\n",
    "        x = self.layer4(x)\n",
    "        x = self.avgpool(x)\n",
    "        # print(x.shape)\n",
    "        x = x.view(x.size(0), -1)\n",
    "        x = self.fc1(x)\n",
    "        return x"
   ]
  },
  {
   "cell_type": "markdown",
   "id": "80d007d2",
   "metadata": {},
   "source": [
    "#### INSTANTIATE THE  CNN MODEL"
   ]
  },
  {
   "cell_type": "code",
   "execution_count": null,
   "id": "5529e568",
   "metadata": {},
   "outputs": [],
   "source": [
    "model = ConvolutionNeuralNetwork()"
   ]
  },
  {
   "cell_type": "code",
   "execution_count": null,
   "id": "53ca108c",
   "metadata": {
    "scrolled": true
   },
   "outputs": [],
   "source": [
    "model.to(device)"
   ]
  },
  {
   "cell_type": "markdown",
   "id": "b96b194b",
   "metadata": {},
   "source": [
    "#### TRAINING"
   ]
  },
  {
   "cell_type": "code",
   "execution_count": null,
   "id": "4f861415",
   "metadata": {},
   "outputs": [],
   "source": [
    "train_losses = []\n",
    "\n",
    "# EARLY STOPPING PARAMETERS\n",
    "patience = 5\n",
    "best_val_loss = float(\"inf\")\n",
    "current_patience = 0\n",
    "\n",
    "for epoch in range(NUM_EPOCHS):\n",
    "    running_loss = 0.0\n",
    "    print(f\"Epoch [{epoch+1}/{NUM_EPOCHS}]\")\n",
    "    \n",
    "    running_correct = 0\n",
    "    running_total = 0\n",
    "    for batch_idx, (inputs, labels) in tqdm(enumerate(train_dataloader), total = len(train_dataloader)):\n",
    "        #get data to cuda if possible\n",
    "        inputs = inputs.to(device, dtype = torch.float32)\n",
    "        labels = labels.to(device, dtype = torch.long) \n",
    "        \n",
    "        # forward pass\n",
    "        # optimizer.zero_grad()\n",
    "        running_outputs = model(inputs)\n",
    "        loss = criterion(running_outputs, labels)\n",
    "        \n",
    "        running_loss += loss.item()\n",
    "        train_losses.append(loss.item())\n",
    "        \n",
    "        running_, running_predicted = torch.max(running_outputs, dim=1)\n",
    "        running_total += labels.size(0)\n",
    "        running_correct += (running_predicted == labels).sum().item()\n",
    "        \n",
    "        #back propagation\n",
    "        loss.backward()\n",
    "        \n",
    "        # gradient descent\n",
    "        optimizer.step()\n",
    "        optimizer.zero_grad()\n",
    "        \n",
    "    # update learning rate scheduler\n",
    "    scheduler.step()\n",
    "        \n",
    "    epoch_loss = running_loss / len(train_dataloader)\n",
    "    running_accuracy = 100 * (running_correct / running_total)\n",
    "    \n",
    "    # validation accuracy\n",
    "    model.eval()\n",
    "    val_loss = 0.0\n",
    "    val_correct = 0\n",
    "    val_total = 0\n",
    "\n",
    "\n",
    "    with torch.no_grad():\n",
    "        for batch_idx, (inputs, labels) in tqdm(enumerate(val_dataloader), total=len(val_dataloader)):\n",
    "            inputs = inputs.to(device, dtype=torch.float32)\n",
    "            labels = labels.to(device, dtype=torch.long)\n",
    "\n",
    "            # Forward pass\n",
    "            outputs = model(inputs)\n",
    "            loss = criterion(outputs, labels)\n",
    "            val_loss += loss.item()\n",
    "\n",
    "            # Get predictions\n",
    "            _, predicted = torch.max(outputs, dim=1)\n",
    "            val_total += labels.size(0)\n",
    "            val_correct += (predicted == labels).sum().item()\n",
    "\n",
    "        # Calculate the average validation loss after the loop\n",
    "        val_loss /= len(val_dataloader)\n",
    "        \n",
    "        # Check improvement\n",
    "        if val_loss < best_val_loss:\n",
    "            best_val_loss = val_loss\n",
    "            current_patience = 0\n",
    "        else:\n",
    "            current_patience += 1\n",
    "\n",
    "        # Print accuracy and check for early stopping\n",
    "        val_accuracy = 100 * (val_correct / val_total)\n",
    "        print(f\"Epoch {epoch + 1}, Training Accuracy: {running_accuracy:.2f}%, Validation Accuracy: {val_accuracy:.2f}%, Loss: {epoch_loss:.4f}, Validation Loss: {val_loss:.4f}\")\n",
    "\n",
    "        # If early stopping criteria met\n",
    "        if current_patience >= patience:\n",
    "            print(f\"Early stopping after {epoch + 1} epochs.\")\n",
    "            break\n",
    "    print(f\"Epoch {epoch+1}, Accuracy: {accuracy:.2f}%\")"
   ]
  },
  {
   "cell_type": "code",
   "execution_count": null,
   "id": "d61eadc0",
   "metadata": {},
   "outputs": [],
   "source": [
    "test_loss = 0.0\n",
    "correct_pred = 0.0\n",
    "total_samples = 0.0\n",
    "test_losses = []\n",
    "all_predictions = []\n",
    "all_labels = []\n",
    "\n",
    "model.eval()\n",
    "with torch.no_grad():\n",
    "    for inputs, labels in test_dataloader:\n",
    "        inputs = inputs.to(device, dtype = torch.float32)\n",
    "        labels = labels.to(device, dtype = torch.long)\n",
    "        \n",
    "        # forward pass\n",
    "        outputs = model(inputs)\n",
    "        loss = criterion(outputs, labels)\n",
    "\n",
    "        # get loss\n",
    "        test_loss = loss.item()\n",
    "        test_losses.append(test_loss)\n",
    "\n",
    "        # get prediction\n",
    "        _, predicted = torch.max(outputs, dim=1)\n",
    "        total_samples += labels.size(0)\n",
    "\n",
    "        # calculate accuracy\n",
    "        correct_pred += (predicted == labels).sum()\n",
    "\n",
    "        # get predicted and actual labels\n",
    "        all_predictions.extend(predicted.cpu().numpy())\n",
    "        all_labels.extend(labels.cpu().numpy())\n",
    "\n",
    "test_loss /= len(test_dataloader.dataset)\n",
    "accuracy = correct_pred / total_samples\n",
    "\n",
    "# view loss and accuracy\n",
    "print(\"Test Loss: {:.3f} | Accuracy: {:.3f}\".format(test_loss, accuracy))"
   ]
  },
  {
   "cell_type": "markdown",
   "id": "efb65f4d",
   "metadata": {},
   "source": [
    "### CHECKING OTHER EVALUATION METRICS"
   ]
  },
  {
   "cell_type": "code",
   "execution_count": null,
   "id": "2a16c6d2",
   "metadata": {},
   "outputs": [],
   "source": [
    "from sklearn.metrics import accuracy_score, precision_score, recall_score, f1_score"
   ]
  },
  {
   "cell_type": "code",
   "execution_count": null,
   "id": "c216decc",
   "metadata": {},
   "outputs": [],
   "source": [
    "accuracy = accuracy_score(all_labels, all_predictions)\n",
    "precision = precision_score(all_labels, all_predictions, average = \"weighted\")\n",
    "recall = recall_score(all_labels, all_predictions, average = \"weighted\")\n",
    "f1 = f1_score(all_labels, all_predictions, average = \"weighted\")"
   ]
  },
  {
   "cell_type": "markdown",
   "id": "065f65b5",
   "metadata": {},
   "source": [
    "#### RESULTS OF THE CNN MODEL"
   ]
  },
  {
   "cell_type": "code",
   "execution_count": null,
   "id": "69a7a9f3",
   "metadata": {},
   "outputs": [],
   "source": [
    "print(f\"Accuracy: {accuracy:.3f}, precision: {precision:.3f}, recall: {recall:.3f}, F1: {f1:.3f}\")"
   ]
  },
  {
   "cell_type": "markdown",
   "id": "4ac7bc41",
   "metadata": {},
   "source": [
    "#### SUMMARY OF CNN"
   ]
  },
  {
   "cell_type": "code",
   "execution_count": null,
   "id": "4c7f28ba",
   "metadata": {},
   "outputs": [],
   "source": [
    "report = classification_report(labels, predicted)"
   ]
  },
  {
   "cell_type": "markdown",
   "id": "26a0a783",
   "metadata": {},
   "source": [
    "#### RESULTS VISUALIZATION"
   ]
  },
  {
   "cell_type": "code",
   "execution_count": null,
   "id": "61d07b34",
   "metadata": {},
   "outputs": [],
   "source": [
    "# plotting the epoch-to-train and test trend\n",
    "plt.figure(figsize = (10, 5))\n",
    "plt.plot(train_losses, label = \"Training loss\")\n",
    "plt.plot(test_losses, label = \"Test loss\")\n",
    "plt.xlabel(\"Epochs\")\n",
    "plt.ylabel(\"Loss\")\n",
    "plt.title(\"Training and Testing Loss trends\")\n",
    "plt.legend()\n",
    "plt.grid(True)\n",
    "plt.show()"
   ]
  }
 ],
 "metadata": {
  "kernelspec": {
   "display_name": "Python 3 (ipykernel)",
   "language": "python",
   "name": "python3"
  },
  "language_info": {
   "codemirror_mode": {
    "name": "ipython",
    "version": 3
   },
   "file_extension": ".py",
   "mimetype": "text/x-python",
   "name": "python",
   "nbconvert_exporter": "python",
   "pygments_lexer": "ipython3",
   "version": "3.10.9"
  }
 },
 "nbformat": 4,
 "nbformat_minor": 5
}
